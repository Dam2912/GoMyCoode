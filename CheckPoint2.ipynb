{
 "cells": [
  {
   "cell_type": "code",
   "execution_count": null,
   "id": "947f59bf",
   "metadata": {},
   "outputs": [],
   "source": [
    "#checkpoint 2\n",
    "\n",
    "#guess a nuler\n",
    "import random\n",
    "\n",
    " \n",
    "guessnumber = random.randint(0, 100)\n",
    "print(guessnumber)\n",
    "found = False\n",
    "\n",
    "while not found:\n",
    "    number = int(input('number given '))\n",
    "    if guessnumber > number:\n",
    "        print('too high')\n",
    "        found = False\n",
    "    elif guessnumber < number:\n",
    "        print('loow')\n",
    "        found = False\n",
    "    else:\n",
    "        print('Bingo')\n",
    "        found = True"
   ]
  }
 ],
 "metadata": {
  "kernelspec": {
   "display_name": "Python 3 (ipykernel)",
   "language": "python",
   "name": "python3"
  },
  "language_info": {
   "codemirror_mode": {
    "name": "ipython",
    "version": 3
   },
   "file_extension": ".py",
   "mimetype": "text/x-python",
   "name": "python",
   "nbconvert_exporter": "python",
   "pygments_lexer": "ipython3",
   "version": "3.10.9"
  }
 },
 "nbformat": 4,
 "nbformat_minor": 5
}
