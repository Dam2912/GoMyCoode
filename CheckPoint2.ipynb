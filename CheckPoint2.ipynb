{
 "cells": [
  {
   "cell_type": "code",
   "execution_count": null,
   "id": "e842e128",
   "metadata": {},
   "outputs": [
    {
     "name": "stdout",
     "output_type": "stream",
     "text": [
      "80\n",
      "number given 78\n",
      "low\n"
     ]
    }
   ],
   "source": [
    "#guess a number\n",
    "import random\n",
    "import time\n",
    "\n",
    " \n",
    "guessnumber = random.randint(0, 100)\n",
    "print(guessnumber)\n",
    "found = False\n",
    "start_time = time.time()\n",
    "\n",
    "while not found:\n",
    "    number = int(input('number given '))\n",
    "    if number > guessnumber:\n",
    "        print('too high')\n",
    "        found = False\n",
    "        end_time = time.time()\n",
    "    elif number < guessnumber:\n",
    "        print('too low')\n",
    "        found = False\n",
    "        end_time = time.time()\n",
    "    else:\n",
    "        end_time = time.time()\n",
    "        processing_time = round(end_time - start_time,2)\n",
    "        print('Bingo', 'you spent ',processing_time, 'secondes to get the mysterious number')\n",
    "        break\n",
    "   \n",
    "        \n",
    "    \n",
    "    "
   ]
  },
  {
   "cell_type": "code",
   "execution_count": null,
   "id": "60bc2772",
   "metadata": {},
   "outputs": [],
   "source": []
  }
 ],
 "metadata": {
  "kernelspec": {
   "display_name": "Python 3 (ipykernel)",
   "language": "python",
   "name": "python3"
  },
  "language_info": {
   "codemirror_mode": {
    "name": "ipython",
    "version": 3
   },
   "file_extension": ".py",
   "mimetype": "text/x-python",
   "name": "python",
   "nbconvert_exporter": "python",
   "pygments_lexer": "ipython3",
   "version": "3.10.9"
  }
 },
 "nbformat": 4,
 "nbformat_minor": 5
}
