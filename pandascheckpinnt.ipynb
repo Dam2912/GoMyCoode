{
 "cells": [
  {
   "cell_type": "code",
   "execution_count": null,
   "id": "de63d2ef",
   "metadata": {},
   "outputs": [],
   "source": [
    "import pandas as pd\n",
    "\n",
    "# Sample DataFrame\n",
    "data = {\n",
    "    'name': ['John', 'Anna', 'Mike', 'Emily', 'Jack'],\n",
    "    'score': [85.5, 90.5, 78.0, None, 45.5],\n",
    "    'attempts': [1, 3, 2, 3, 2],\n",
    "    'qualify': ['yes', 'yes', 'no', 'no', 'yes']\n",
    "}\n",
    "\n",
    "df = pd.DataFrame(data)\n",
    "\n",
    "# Print the first three rows using head()\n",
    "print(\"First three rows:\")\n",
    "print(df.head(3))\n",
    "\n",
    "# Delete rows with NaN values\n",
    "df.dropna(inplace=True)\n",
    "\n",
    "# Extract 'name' and 'score' columns\n",
    "extracted_df = df[['name', 'score']]\n",
    "\n",
    "# Append a new row 'k'\n",
    "new_row = {'name': 'Suresh', 'score': 15.5, 'attempts': 1, 'qualify': 'yes'}\n",
    "df = df.append(new_row, ignore_index=True)\n",
    "\n",
    "# Delete the 'attempts' column\n",
    "df.drop(columns=['attempts'], inplace=True)\n",
    "\n",
    "# Add a new column 'Success'\n",
    "df['Success'] = df['score'].apply(lambda x: 1 if x > 10 else 0)\n",
    "\n",
    "# Export the DataFrame to a CSV file\n",
    "df.to_csv('my_data.csv', index=False)\n",
    "\n",
    "print(\"Final DataFrame:\")\n",
    "print(df)\n"
   ]
  }
 ],
 "metadata": {
  "kernelspec": {
   "display_name": "Python 3 (ipykernel)",
   "language": "python",
   "name": "python3"
  },
  "language_info": {
   "codemirror_mode": {
    "name": "ipython",
    "version": 3
   },
   "file_extension": ".py",
   "mimetype": "text/x-python",
   "name": "python",
   "nbconvert_exporter": "python",
   "pygments_lexer": "ipython3",
   "version": "3.10.9"
  }
 },
 "nbformat": 4,
 "nbformat_minor": 5
}
