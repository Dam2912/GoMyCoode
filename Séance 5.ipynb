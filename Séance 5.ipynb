{
 "cells": [
  {
   "cell_type": "code",
   "execution_count": null,
   "id": "f7874b22",
   "metadata": {},
   "outputs": [],
   "source": [
    "# Exo 1\n",
    "\n",
    "import math\n",
    "\n",
    "list1 = [2, 3, 6]\n",
    "product = math.prod(list1)\n",
    "\n",
    "print(product)"
   ]
  },
  {
   "cell_type": "code",
   "execution_count": null,
   "id": "423ea733",
   "metadata": {},
   "outputs": [],
   "source": [
    "#fonction factoriel\n",
    "\n",
    "def fact(n):\n",
    "    f = 1\n",
    "    for i in range(n):\n",
    "        f = f * (i+1)\n",
    "    \n",
    "    print(f)\n",
    "    \n",
    "fact(5)\n"
   ]
  },
  {
   "cell_type": "code",
   "execution_count": null,
   "id": "90848688",
   "metadata": {},
   "outputs": [],
   "source": [
    "#fonction factoriel avec returen\n",
    "\n",
    "def fact(n):\n",
    "    f = 1\n",
    "    for i in range(n):\n",
    "        f = f * (i+1)\n",
    "    \n",
    "    print(f)\n",
    "    \n",
    "    return f\n",
    "    \n",
    "x = fact(5)\n",
    "print(x+1)\n"
   ]
  },
  {
   "cell_type": "code",
   "execution_count": null,
   "id": "168f674e",
   "metadata": {},
   "outputs": [],
   "source": [
    "budget = 200\n",
    "def acheter(objet,prix):\n",
    "    global budget #Global rends la variable ici budget global et non locale\n",
    "    print('prix de l\\'objet ', prix)\n",
    "    print('L\\'object achété : ', objet,' au prix de ', prix )\n",
    "    budget = budget - prix\n",
    "    \n",
    "    return budget\n",
    "\n",
    "acheter('XX',10)\n",
    "print('le noveau budget est de',budget)\n",
    "\n",
    "\n"
   ]
  },
  {
   "cell_type": "code",
   "execution_count": null,
   "id": "3a940551",
   "metadata": {},
   "outputs": [],
   "source": [
    "## corrrection\n",
    "budget = 3000\n",
    "def acheter(prod,prix=1,qte=1,clr='noir'): #qte = une facon de l'initialiser\n",
    "    global budget\n",
    "    budget -= prix*qte\n",
    "    print(f\"j'ai acheté {qte} {prod} à {prix} {clr} DHS. Mon nouveau budget est de: {budget} DHS\")\n",
    "          \n",
    "acheter('souris',100,clr='bleu')\n",
    "acheter('Clavier',150)\n",
    "# si le param a été initialisé nous pouvons ne plus le rentrer"
   ]
  },
  {
   "cell_type": "code",
   "execution_count": null,
   "id": "89398683",
   "metadata": {},
   "outputs": [],
   "source": [
    "#exo 2 premiere facon de faire\n",
    "data = [[4, 2, 7], [6, 8, 2],[1, 5, 3]]\n",
    "\n",
    "# Sort based on the second element of each sublist\n",
    "sorted_data = sorted(data, key=lambda x: x[1])\n",
    "\n",
    "print(sorted_data)\n"
   ]
  },
  {
   "cell_type": "code",
   "execution_count": null,
   "id": "860f1756",
   "metadata": {},
   "outputs": [],
   "source": []
  },
  {
   "cell_type": "code",
   "execution_count": null,
   "id": "83682504",
   "metadata": {},
   "outputs": [],
   "source": [
    "#exo 2 (seconde facon de faire)\n",
    "List = [(2, 5), (1, 2), (4, 4), (2, 3), (2, 1)]\n",
    "    \n",
    "def tri(X):\n",
    "    return X[1]\n",
    "    \n",
    "print(sorted(List, key=tri))\n",
    "        "
   ]
  },
  {
   "cell_type": "code",
   "execution_count": null,
   "id": "8c9a7db0",
   "metadata": {},
   "outputs": [],
   "source": [
    "#Exo 3\n",
    "d1 = {'a': 100, 'b': 200, 'c':300}\n",
    "\n",
    "d2 = {'a': 300, 'b': 200, 'd':400}\n",
    "\n",
    "res = {}\n",
    "\n",
    "for n in d1.keys()|d2.keys():\n",
    "    valeur1 = d1.get(n,0)\n",
    "    valeur2 = d2.get(n,0)\n",
    "    sum1 = valeur1 + valeur2\n",
    "    res[n] = sum1\n",
    "\n",
    "dictionnaire_trie = dict(sorted(res.items(), key=lambda x: x[0]))\n",
    "#utiliser res.item()  carr un dico, et of course dict\n",
    "\n",
    "print(dictionnaire_trie)\n",
    "#Expected result: {'a': 400, 'b': 400, 'd': 400, 'c': 300}"
   ]
  },
  {
   "cell_type": "code",
   "execution_count": 35,
   "id": "2b902ee7",
   "metadata": {},
   "outputs": [
    {
     "name": "stdout",
     "output_type": "stream",
     "text": [
      "full :  dict_items([('a', 200), ('b', 300), ('c', 300), ('d', 400)])\n",
      "a\n",
      "b\n",
      "c\n",
      "d\n",
      "{'a': 300, 'b': 500, 'c': 300, 'd': 400}\n"
     ]
    }
   ],
   "source": [
    "#Exo 3 second method\n",
    "\n",
    "from itertools import chain\n",
    "\n",
    "d1 = {'a': 100, 'b': 200, 'c':300}\n",
    "\n",
    "d2 = {'b': 300, 'a': 200, 'd':400}\n",
    "\n",
    "res = {}\n",
    "\n",
    "full = {**d1, **d2}\n",
    "print(\"full : \",full.items())\n",
    "\n",
    "\n",
    "for key in full:\n",
    "    res[key] = d1.get(key,0)+d2.get(key,0)\n",
    "    print(key)\n",
    "\n",
    "\n",
    "print(res)\n",
    "\n"
   ]
  },
  {
   "cell_type": "code",
   "execution_count": null,
   "id": "1403de11",
   "metadata": {},
   "outputs": [],
   "source": [
    "#** pour faire passer des params via des dico, utile \n",
    "budget = 3000\n",
    "marchandise = [\n",
    "    {'prod':'Souris','clr':'bleu'},\n",
    "    {'prod':'Clavier'},\n",
    "    {'prod':'Clé Usb','qte':2}\n",
    "]\n",
    "\n",
    "for truc in marchandise:\n",
    "    acheter(**truc)"
   ]
  },
  {
   "cell_type": "code",
   "execution_count": null,
   "id": "92dbc979",
   "metadata": {},
   "outputs": [],
   "source": [
    "#version\n",
    "promo = lambda prix:prix*0.75 if prix>500 else prix*0.9 if prix>100 else prix\n",
    "print(promo(50))"
   ]
  },
  {
   "cell_type": "code",
   "execution_count": 33,
   "id": "7f263a29",
   "metadata": {},
   "outputs": [
    {
     "data": {
      "text/plain": [
       "'HELLO'"
      ]
     },
     "execution_count": 33,
     "metadata": {},
     "output_type": "execute_result"
    }
   ],
   "source": [
    "## fonction Map\n",
    "#Map prends une fct et une liste par ex et les appliauqes à tous les elements de la liste\n",
    "\n",
    "maj = lambda text : text.upper()\n",
    "maj('hello')\n"
   ]
  },
  {
   "cell_type": "code",
   "execution_count": null,
   "id": "44f953e6",
   "metadata": {},
   "outputs": [],
   "source": [
    "names = ['mounia','Mohamed','Omar','damien','guillaume']\n",
    "maj = lambda text : text.upper()\n",
    "print(names)\n",
    "print(list(map(maj,names)))"
   ]
  },
  {
   "cell_type": "code",
   "execution_count": null,
   "id": "494dbfd7",
   "metadata": {},
   "outputs": [],
   "source": [
    "data2 = [1,2,3,4]\n",
    "factorial = lambda n: 1 if n == 0 else n * factorial(n - 1)\n",
    "print(list(map(factorial,data2))) # map => map(param ou fonction a app, data set)\n",
    "# Utilisation de la fonction lambda\n",
    "print(factorial(5))  # Affiche 120\n"
   ]
  },
  {
   "cell_type": "code",
   "execution_count": null,
   "id": "fde590e4",
   "metadata": {},
   "outputs": [],
   "source": [
    "#Exo 5\n",
    "def sort_tuple_by_float(tuple_list):\n",
    "    sorted_tuple = sorted(tuple_list, key=lambda x: x[1],reverse=True)\n",
    "    return sorted_tuple\n",
    "\n",
    "# code\n",
    "my_tuple =  [('item1', '12.20'), ('item2', '15.10'), ('item3', '24.5')]\n",
    "sorted_tuple = sort_tuple_by_float(my_tuple)\n",
    "print(sorted_tuple)\n",
    "print(\"expected result: [('item3', '24.5'), ('item2', '15.10'), ('item1', '12.20')]\")\n",
    "#Expected result: [('item3', '24.5'), ('item2', '15.10'), ('item1', '12.20')]\n"
   ]
  },
  {
   "cell_type": "code",
   "execution_count": null,
   "id": "f7623d42",
   "metadata": {},
   "outputs": [],
   "source": [
    "#Reste exo 4 et 6"
   ]
  }
 ],
 "metadata": {
  "kernelspec": {
   "display_name": "Python 3 (ipykernel)",
   "language": "python",
   "name": "python3"
  },
  "language_info": {
   "codemirror_mode": {
    "name": "ipython",
    "version": 3
   },
   "file_extension": ".py",
   "mimetype": "text/x-python",
   "name": "python",
   "nbconvert_exporter": "python",
   "pygments_lexer": "ipython3",
   "version": "3.10.9"
  }
 },
 "nbformat": 4,
 "nbformat_minor": 5
}
