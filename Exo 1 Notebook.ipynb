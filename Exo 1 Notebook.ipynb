{
 "cells": [
  {
   "cell_type": "code",
   "execution_count": 1,
   "id": "104dc51c",
   "metadata": {},
   "outputs": [
    {
     "name": "stdout",
     "output_type": "stream",
     "text": [
      "veuillez entrer une heure: 5\n",
      "18000 secondes\n"
     ]
    }
   ],
   "source": [
    "#version simple\n",
    "def conv(heure):\n",
    "    conversion = heure *60*60\n",
    "\n",
    "    return conversion\n",
    "\n",
    "heure=int(input('veuillez entrer une heure: '))\n",
    "\n",
    "print(conv(heure),'secondes')"
   ]
  },
  {
   "cell_type": "code",
   "execution_count": 2,
   "id": "40a58da7",
   "metadata": {},
   "outputs": [
    {
     "name": "stdout",
     "output_type": "stream",
     "text": [
      "veuillez entrer une heure au format \"heure:minutes:secondes\": 1:2:25\n",
      "cela représente :  3745\n"
     ]
    }
   ],
   "source": [
    "#version caractere\n",
    "def heure_en_secondes(heure):\n",
    "    heures, minutes, secondes = heure.split(':')\n",
    "    conversion = int(heures) * 3600 + int(minutes) * 60 + int(secondes)\n",
    "    return conversion\n",
    "\n",
    "heure = input('veuillez entrer une heure au format \"heure:minutes:secondes\": ')\n",
    "secondes = heure_en_secondes(heure)\n",
    "print('cela représente : ',secondes,' secondes')"
   ]
  },
  {
   "cell_type": "code",
   "execution_count": 14,
   "id": "3033aca1",
   "metadata": {},
   "outputs": [
    {
     "name": "stdout",
     "output_type": "stream",
     "text": [
      "14\n"
     ]
    }
   ],
   "source": []
  },
  {
   "cell_type": "code",
   "execution_count": null,
   "id": "cd69d0ee",
   "metadata": {},
   "outputs": [],
   "source": []
  }
 ],
 "metadata": {
  "kernelspec": {
   "display_name": "Python 3 (ipykernel)",
   "language": "python",
   "name": "python3"
  },
  "language_info": {
   "codemirror_mode": {
    "name": "ipython",
    "version": 3
   },
   "file_extension": ".py",
   "mimetype": "text/x-python",
   "name": "python",
   "nbconvert_exporter": "python",
   "pygments_lexer": "ipython3",
   "version": "3.10.9"
  }
 },
 "nbformat": 4,
 "nbformat_minor": 5
}
