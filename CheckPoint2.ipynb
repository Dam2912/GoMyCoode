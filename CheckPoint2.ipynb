{
 "cells": [
  {
   "cell_type": "code",
   "execution_count": null,
   "id": "93c457f7",
   "metadata": {},
   "outputs": [],
   "source": [
    "#guess a nuler\n",
    "import random\n",
    "import time\n",
    "\n",
    " \n",
    "guessnumber = random.randint(0, 100)\n",
    "print(guessnumber)\n",
    "found = False\n",
    "start_time = time.time()\n",
    "\n",
    "while not found:\n",
    "    number = int(input('number given '))\n",
    "    if guessnumber > number:\n",
    "        print('too high')\n",
    "        found = False\n",
    "        end_time = time.time()\n",
    "    elif guessnumber < number:\n",
    "        print('low')\n",
    "        found = False\n",
    "        end_time = time.time()\n",
    "    else:\n",
    "        end_time = time.time()\n",
    "        processing_time = end_time - start_time\n",
    "        print('Bingo', 'you spent ',processing_time, 'secondes')\n",
    "        break\n",
    "   \n",
    "        \n",
    "    "
   ]
  }
 ],
 "metadata": {
  "kernelspec": {
   "display_name": "Python 3 (ipykernel)",
   "language": "python",
   "name": "python3"
  },
  "language_info": {
   "codemirror_mode": {
    "name": "ipython",
    "version": 3
   },
   "file_extension": ".py",
   "mimetype": "text/x-python",
   "name": "python",
   "nbconvert_exporter": "python",
   "pygments_lexer": "ipython3",
   "version": "3.10.9"
  }
 },
 "nbformat": 4,
 "nbformat_minor": 5
}
