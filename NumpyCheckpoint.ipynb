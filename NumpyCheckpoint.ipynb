{
 "cells": [
  {
   "cell_type": "code",
   "execution_count": null,
   "id": "d40996e9",
   "metadata": {},
   "outputs": [],
   "source": [
    "import numpy as np\n",
    "\n",
    "# Get input from the user\n",
    "num_students = int(input(\"Enter the number of students: \"))\n",
    "num_subjects = int(input(\"Enter the number of subjects: \"))\n",
    "\n",
    "# Create a NumPy array to store marks\n",
    "marks_array = np.zeros((num_students, num_subjects))\n",
    "\n",
    "# Get marks for each student in each subject\n",
    "for i in range(num_students):\n",
    "    for j in range(num_subjects):\n",
    "        marks_array[i, j] = float(input(f\"Enter marks for student {i+1} in subject {j+1}: \"))\n",
    "\n",
    "# Calculate total marks for each student\n",
    "total_marks = np.sum(marks_array, axis=1)\n",
    "\n",
    "# Calculate percentage for each student\n",
    "percentages = (total_marks / (num_subjects * 100)) * 100\n",
    "\n",
    "# Calculate grades for each student\n",
    "grades = []\n",
    "for percentage in percentages:\n",
    "    if percentage >= 90:\n",
    "        grades.append(\"A+\")\n",
    "    elif percentage >= 80:\n",
    "        grades.append(\"A\")\n",
    "    elif percentage >= 70:\n",
    "        grades.append(\"B+\")\n",
    "    elif percentage >= 60:\n",
    "        grades.append(\"B\")\n",
    "    elif percentage >= 50:\n",
    "        grades.append(\"C\")\n",
    "    else:\n",
    "        grades.append(\"F\")\n",
    "\n",
    "# Display the result in tabular format\n",
    "print(\"\\nStudent\\tTotal Marks\\tPercentage\\tGrade\")\n",
    "print(\"--------------------------------------------\")\n",
    "for i in range(num_students):\n",
    "    print(f\"{i+1}\\t{total_marks[i]}\\t\\t{percentages[i]:.2f}%\\t\\t{grades[i]}\")\n"
   ]
  }
 ],
 "metadata": {
  "kernelspec": {
   "display_name": "Python 3 (ipykernel)",
   "language": "python",
   "name": "python3"
  },
  "language_info": {
   "codemirror_mode": {
    "name": "ipython",
    "version": 3
   },
   "file_extension": ".py",
   "mimetype": "text/x-python",
   "name": "python",
   "nbconvert_exporter": "python",
   "pygments_lexer": "ipython3",
   "version": "3.10.9"
  }
 },
 "nbformat": 4,
 "nbformat_minor": 5
}
